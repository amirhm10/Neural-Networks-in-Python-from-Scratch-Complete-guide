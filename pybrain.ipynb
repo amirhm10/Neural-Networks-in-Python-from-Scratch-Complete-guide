{
 "cells": [
  {
   "cell_type": "markdown",
   "metadata": {},
   "source": [
    "# Installing Pybrain\n",
    "\n",
    "!pip install https://github.com/pybrain/pybrain/archive/0.3.3.zip\n",
    "\n",
    "after that go to this path:\n",
    "* ~\\anaconda3\\lib\\site-packages\\pybrain\\tools\\functions.py in <module>\n",
    "      2 \n",
    "      3 from scipy import array, exp, tanh, clip, log, dot, sqrt, power, pi, tan, diag, rand, real_if_close\n",
    "----> 4 from scipy.linalg import inv, det, svd, logm, expm2\n",
    "    \n",
    "    and delete expm2\n",
    "\n"
   ]
  },
  {
   "cell_type": "code",
   "execution_count": 8,
   "metadata": {},
   "outputs": [],
   "source": [
    "import pybrain"
   ]
  },
  {
   "cell_type": "code",
   "execution_count": 9,
   "metadata": {},
   "outputs": [],
   "source": [
    "from pybrain.structure import FeedForwardNetwork\n",
    "from pybrain.structure import SigmoidLayer, LinearLayer, BiasUnit\n",
    "from pybrain.structure import FullConnection"
   ]
  },
  {
   "cell_type": "code",
   "execution_count": 10,
   "metadata": {},
   "outputs": [],
   "source": [
    "network = FeedForwardNetwork()"
   ]
  },
  {
   "cell_type": "code",
   "execution_count": 11,
   "metadata": {},
   "outputs": [],
   "source": [
    "# LinearLayer beacuase we don't want activation function\n",
    "input_layer = LinearLayer(2)\n",
    "hidden_layer = SigmoidLayer(3)\n",
    "output_layer = SigmoidLayer(1)\n",
    "bias0 = BiasUnit()\n",
    "bias1 = BiasUnit()"
   ]
  },
  {
   "cell_type": "code",
   "execution_count": 12,
   "metadata": {},
   "outputs": [],
   "source": [
    "network.addInputModule(input_layer)\n",
    "network.addInputModule(hidden_layer)\n",
    "network.addInputModule(output_layer)\n",
    "network.addInputModule(bias0)\n",
    "network.addInputModule(bias1)"
   ]
  },
  {
   "cell_type": "code",
   "execution_count": 13,
   "metadata": {},
   "outputs": [],
   "source": [
    "#We need to connect these"
   ]
  },
  {
   "cell_type": "code",
   "execution_count": 14,
   "metadata": {},
   "outputs": [],
   "source": [
    "input_to_hidden = FullConnection(input_layer, hidden_layer)\n",
    "hidden_to_output = FullConnection(hidden_layer, output_layer)\n",
    "bias_hidden = FullConnection(bias0, hidden_layer)\n",
    "bias_output = FullConnection(bias1, output_layer)"
   ]
  },
  {
   "cell_type": "code",
   "execution_count": 15,
   "metadata": {},
   "outputs": [],
   "source": [
    "network.sortModules()"
   ]
  },
  {
   "cell_type": "code",
   "execution_count": 16,
   "metadata": {},
   "outputs": [
    {
     "name": "stdout",
     "output_type": "stream",
     "text": [
      "FeedForwardNetwork-10\n",
      "   Modules:\n",
      "    [<BiasUnit 'BiasUnit-6'>, <BiasUnit 'BiasUnit-8'>, <LinearLayer 'LinearLayer-5'>, <SigmoidLayer 'SigmoidLayer-7'>, <SigmoidLayer 'SigmoidLayer-9'>]\n",
      "   Connections:\n",
      "    []\n",
      "\n"
     ]
    }
   ],
   "source": [
    "print(network)"
   ]
  },
  {
   "cell_type": "code",
   "execution_count": 18,
   "metadata": {},
   "outputs": [
    {
     "data": {
      "text/plain": [
       "(array([-0.10126543, -0.08759305,  1.22003558, -0.48491194,  0.7055537 ,\n",
       "        -0.75016648]),\n",
       " array([-0.76912384,  0.83034431, -0.7632992 ]),\n",
       " array([-0.31268945, -0.86644586, -0.7696    ]),\n",
       " array([0.73460114]))"
      ]
     },
     "execution_count": 18,
     "metadata": {},
     "output_type": "execute_result"
    }
   ],
   "source": [
    "input_to_hidden.params, hidden_to_output.params, bias_hidden.params,bias_output.params"
   ]
  },
  {
   "cell_type": "code",
   "execution_count": null,
   "metadata": {},
   "outputs": [],
   "source": []
  },
  {
   "cell_type": "markdown",
   "metadata": {},
   "source": [
    "# Creating a Network"
   ]
  },
  {
   "cell_type": "code",
   "execution_count": 19,
   "metadata": {},
   "outputs": [],
   "source": [
    "from pybrain.tools.shortcuts import buildNetwork\n",
    "from pybrain.datasets import SupervisedDataSet\n",
    "from pybrain.supervised import BackpropTrainer\n",
    "from pybrain.structure.modules import SigmoidLayer"
   ]
  },
  {
   "cell_type": "code",
   "execution_count": 35,
   "metadata": {},
   "outputs": [],
   "source": [
    "network = buildNetwork(2, 3, 1,\n",
    "                       outclass=SigmoidLayer,\n",
    "                       hiddenclass=SigmoidLayer,\n",
    "                       bias=False)"
   ]
  },
  {
   "cell_type": "code",
   "execution_count": 28,
   "metadata": {},
   "outputs": [
    {
     "data": {
      "text/plain": [
       "(array([[0., 0.],\n",
       "        [0., 1.],\n",
       "        [1., 0.],\n",
       "        [1., 1.]]),\n",
       " array([[0.],\n",
       "        [1.],\n",
       "        [1.],\n",
       "        [0.]]))"
      ]
     },
     "execution_count": 28,
     "metadata": {},
     "output_type": "execute_result"
    }
   ],
   "source": [
    "df = SupervisedDataSet(2, 1)\n",
    "df.addSample((0,0),(0,))\n",
    "df.addSample((0,1),(1,))\n",
    "df.addSample((1,0),(1,))\n",
    "df.addSample((1,1),(0,))\n",
    "df[\"input\"],df[\"target\"]"
   ]
  },
  {
   "cell_type": "code",
   "execution_count": 36,
   "metadata": {},
   "outputs": [],
   "source": [
    "optimizer = BackpropTrainer(module=network,\n",
    "                            dataset=df,\n",
    "                            learningrate=.3)"
   ]
  },
  {
   "cell_type": "code",
   "execution_count": 37,
   "metadata": {},
   "outputs": [
    {
     "name": "stdout",
     "output_type": "stream",
     "text": [
      "0.15594357993481905\n",
      "0.07842513620644567\n",
      "0.047076519503179655\n",
      "0.03686732035012631\n",
      "0.03450063085749854\n",
      "0.03350720939860089\n",
      "0.03296831244926872\n",
      "0.03263226292985436\n",
      "0.03240351589230904\n",
      "0.032238143147380036\n"
     ]
    }
   ],
   "source": [
    "epochs = 10000\n",
    "error = []\n",
    "for epoch in range(epochs):\n",
    "    error_average = optimizer.train()\n",
    "    if epoch % 1000 ==0:\n",
    "        print(str(error_average))\n",
    "        error.append(error_average)"
   ]
  },
  {
   "cell_type": "code",
   "execution_count": 38,
   "metadata": {},
   "outputs": [
    {
     "data": {
      "text/plain": [
       "array([0.50228039])"
      ]
     },
     "execution_count": 38,
     "metadata": {},
     "output_type": "execute_result"
    }
   ],
   "source": [
    "network.activate([1,1])"
   ]
  },
  {
   "cell_type": "markdown",
   "metadata": {},
   "source": [
    "Here is the homework regarding the PyBrain library!\n",
    "\n",
    "The goal is to build a neural network in PyBrain to classify the Iris dataset, so the code is very similar to the one we already have implemented\n",
    "\n",
    "Hints:\n",
    "\n",
    "Try to find how to declare more hidden layer using the buildNetwork shortcut\n",
    "\n",
    "In order to create the SupervisedDataset object, you can implement a for loop to go through each instance of the dataset\n",
    "\n",
    "As we have a classification problem with 3 classes (setosa, virginica and versicolor), you need to use the softmax function in the output layer\n",
    "\n",
    "Also, you need to encode classes. For example: class 0 will be 1 0 0, class 1 will be 0 1 0, and finally, class 2 will be 0 0 1\n",
    "\n",
    "The final output of the neural network will be an array with 3 values and you need to extract the highest probability\n",
    "\n",
    "Good luck!"
   ]
  },
  {
   "cell_type": "code",
   "execution_count": null,
   "metadata": {},
   "outputs": [],
   "source": []
  }
 ],
 "metadata": {
  "kernelspec": {
   "display_name": "Python 3",
   "language": "python",
   "name": "python3"
  },
  "language_info": {
   "codemirror_mode": {
    "name": "ipython",
    "version": 3
   },
   "file_extension": ".py",
   "mimetype": "text/x-python",
   "name": "python",
   "nbconvert_exporter": "python",
   "pygments_lexer": "ipython3",
   "version": "3.8.3"
  }
 },
 "nbformat": 4,
 "nbformat_minor": 4
}
